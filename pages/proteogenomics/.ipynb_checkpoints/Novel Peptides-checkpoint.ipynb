{
 "cells": [
  {
   "cell_type": "code",
   "execution_count": 2,
   "metadata": {},
   "outputs": [
    {
     "name": "stderr",
     "output_type": "stream",
     "text": [
      "Installing package into 'C:/Users/mvaudel/Documents/R/win-library/3.6'\n",
      "(as 'lib' is unspecified)\n",
      "\n"
     ]
    },
    {
     "name": "stdout",
     "output_type": "stream",
     "text": [
      "package 'tidyr' successfully unpacked and MD5 sums checked\n"
     ]
    },
    {
     "name": "stderr",
     "output_type": "stream",
     "text": [
      "Warning message:\n",
      "\"cannot remove prior installation of package 'tidyr'\"\n",
      "Warning message in file.copy(savedcopy, lib, recursive = TRUE):\n",
      "\"problem copying C:\\Users\\mvaudel\\Documents\\R\\win-library\\3.6\\00LOCK\\tidyr\\libs\\x64\\tidyr.dll to C:\\Users\\mvaudel\\Documents\\R\\win-library\\3.6\\tidyr\\libs\\x64\\tidyr.dll: Permission denied\"\n",
      "Warning message:\n",
      "\"restored 'tidyr'\"\n"
     ]
    },
    {
     "name": "stdout",
     "output_type": "stream",
     "text": [
      "\n",
      "The downloaded binary packages are in\n",
      "\tC:\\Users\\mvaudel\\AppData\\Local\\Temp\\RtmpENPI9l\\downloaded_packages\n"
     ]
    },
    {
     "name": "stderr",
     "output_type": "stream",
     "text": [
      "Installing package into 'C:/Users/mvaudel/Documents/R/win-library/3.6'\n",
      "(as 'lib' is unspecified)\n",
      "\n"
     ]
    },
    {
     "name": "stdout",
     "output_type": "stream",
     "text": [
      "package 'dplyr' successfully unpacked and MD5 sums checked\n"
     ]
    },
    {
     "name": "stderr",
     "output_type": "stream",
     "text": [
      "Warning message:\n",
      "\"cannot remove prior installation of package 'dplyr'\"\n",
      "Warning message in file.copy(savedcopy, lib, recursive = TRUE):\n",
      "\"problem copying C:\\Users\\mvaudel\\Documents\\R\\win-library\\3.6\\00LOCK\\dplyr\\libs\\x64\\dplyr.dll to C:\\Users\\mvaudel\\Documents\\R\\win-library\\3.6\\dplyr\\libs\\x64\\dplyr.dll: Permission denied\"\n",
      "Warning message:\n",
      "\"restored 'dplyr'\"\n"
     ]
    },
    {
     "name": "stdout",
     "output_type": "stream",
     "text": [
      "\n",
      "The downloaded binary packages are in\n",
      "\tC:\\Users\\mvaudel\\AppData\\Local\\Temp\\RtmpENPI9l\\downloaded_packages\n"
     ]
    },
    {
     "name": "stderr",
     "output_type": "stream",
     "text": [
      "Installing package into 'C:/Users/mvaudel/Documents/R/win-library/3.6'\n",
      "(as 'lib' is unspecified)\n",
      "\n"
     ]
    },
    {
     "name": "stdout",
     "output_type": "stream",
     "text": [
      "package 'ggplot2' successfully unpacked and MD5 sums checked\n",
      "\n",
      "The downloaded binary packages are in\n",
      "\tC:\\Users\\mvaudel\\AppData\\Local\\Temp\\RtmpENPI9l\\downloaded_packages\n"
     ]
    },
    {
     "name": "stderr",
     "output_type": "stream",
     "text": [
      "Installing package into 'C:/Users/mvaudel/Documents/R/win-library/3.6'\n",
      "(as 'lib' is unspecified)\n",
      "\n"
     ]
    },
    {
     "name": "stdout",
     "output_type": "stream",
     "text": [
      "package 'gtable' successfully unpacked and MD5 sums checked\n",
      "\n",
      "The downloaded binary packages are in\n",
      "\tC:\\Users\\mvaudel\\AppData\\Local\\Temp\\RtmpENPI9l\\downloaded_packages\n"
     ]
    },
    {
     "name": "stderr",
     "output_type": "stream",
     "text": [
      "Installing package into 'C:/Users/mvaudel/Documents/R/win-library/3.6'\n",
      "(as 'lib' is unspecified)\n",
      "\n"
     ]
    },
    {
     "name": "stdout",
     "output_type": "stream",
     "text": [
      "package 'gamlss' successfully unpacked and MD5 sums checked\n"
     ]
    },
    {
     "name": "stderr",
     "output_type": "stream",
     "text": [
      "Warning message:\n",
      "\"cannot remove prior installation of package 'gamlss'\"\n",
      "Warning message in file.copy(savedcopy, lib, recursive = TRUE):\n",
      "\"problem copying C:\\Users\\mvaudel\\Documents\\R\\win-library\\3.6\\00LOCK\\gamlss\\libs\\x64\\gamlss.dll to C:\\Users\\mvaudel\\Documents\\R\\win-library\\3.6\\gamlss\\libs\\x64\\gamlss.dll: Permission denied\"\n",
      "Warning message:\n",
      "\"restored 'gamlss'\"\n"
     ]
    },
    {
     "name": "stdout",
     "output_type": "stream",
     "text": [
      "\n",
      "The downloaded binary packages are in\n",
      "\tC:\\Users\\mvaudel\\AppData\\Local\\Temp\\RtmpENPI9l\\downloaded_packages\n"
     ]
    },
    {
     "name": "stderr",
     "output_type": "stream",
     "text": [
      "Installing package into 'C:/Users/mvaudel/Documents/R/win-library/3.6'\n",
      "(as 'lib' is unspecified)\n",
      "\n"
     ]
    },
    {
     "name": "stdout",
     "output_type": "stream",
     "text": [
      "package 'mclust' successfully unpacked and MD5 sums checked\n",
      "\n",
      "The downloaded binary packages are in\n",
      "\tC:\\Users\\mvaudel\\AppData\\Local\\Temp\\RtmpENPI9l\\downloaded_packages\n"
     ]
    },
    {
     "name": "stderr",
     "output_type": "stream",
     "text": [
      "Installing package into 'C:/Users/mvaudel/Documents/R/win-library/3.6'\n",
      "(as 'lib' is unspecified)\n",
      "\n"
     ]
    },
    {
     "name": "stdout",
     "output_type": "stream",
     "text": [
      "package 'igraph' successfully unpacked and MD5 sums checked\n"
     ]
    },
    {
     "name": "stderr",
     "output_type": "stream",
     "text": [
      "Warning message:\n",
      "\"cannot remove prior installation of package 'igraph'\"\n",
      "Warning message in file.copy(savedcopy, lib, recursive = TRUE):\n",
      "\"problem copying C:\\Users\\mvaudel\\Documents\\R\\win-library\\3.6\\00LOCK\\igraph\\libs\\x64\\igraph.dll to C:\\Users\\mvaudel\\Documents\\R\\win-library\\3.6\\igraph\\libs\\x64\\igraph.dll: Permission denied\"\n",
      "Warning message:\n",
      "\"restored 'igraph'\"\n"
     ]
    },
    {
     "name": "stdout",
     "output_type": "stream",
     "text": [
      "\n",
      "The downloaded binary packages are in\n",
      "\tC:\\Users\\mvaudel\\AppData\\Local\\Temp\\RtmpENPI9l\\downloaded_packages\n"
     ]
    },
    {
     "name": "stderr",
     "output_type": "stream",
     "text": [
      "Installing package into 'C:/Users/mvaudel/Documents/R/win-library/3.6'\n",
      "(as 'lib' is unspecified)\n",
      "\n"
     ]
    },
    {
     "name": "stdout",
     "output_type": "stream",
     "text": [
      "package 'devtools' successfully unpacked and MD5 sums checked\n",
      "\n",
      "The downloaded binary packages are in\n",
      "\tC:\\Users\\mvaudel\\AppData\\Local\\Temp\\RtmpENPI9l\\downloaded_packages\n"
     ]
    }
   ],
   "source": [
    "install.packages(\"tidyr\")\n",
    "install.packages(\"dplyr\")\n",
    "install.packages(\"ggplot2\")\n",
    "install.packages(\"gtable\")\n",
    "install.packages(\"gamlss\")\n",
    "install.packages(\"mclust\")\n",
    "install.packages(\"igraph\")\n",
    "install.packages(\"devtools\")\n",
    "install.packages(\"conflicted\")"
   ]
  },
  {
   "cell_type": "markdown",
   "metadata": {},
   "source": [
    "Mutations in the genome can alter the sequence so that non-coding sections become coding. _e.g._ through the introduction of a start codon or the alteration of a stop codon. In order to identify these non-canonical genomic products, protein databases that capture genetic variation and non-canonical genomic products are generated either by enriching canonical protein sequences or by running six reading frame translation of the entire genome [(1)](https://gtpb.github.io/IBIP19/pages/proteogenomics/references). \n",
    "\n",
    "##### [❔](https://github.com/GTPB/IBIP19/blob/master/pages/proteogenomics/answers.md#based-on-you-knowledge-of-peptide-and-protein-identification-can-you-anticipate-challenges-posed-by-these-proteogenomic-databases) _Based on you knowledge of peptide and protein identification, can you anticipate challenges posed by these proteogenomic databases?_"
   ]
  },
  {
   "cell_type": "markdown",
   "metadata": {},
   "source": [
    "## Libraries\n",
    "\n",
    "We will need the following libraries, please make sure that they are installed."
   ]
  },
  {
   "cell_type": "code",
   "execution_count": 2,
   "metadata": {},
   "outputs": [
    {
     "name": "stderr",
     "output_type": "stream",
     "text": [
      "\n",
      "Attaching package: 'dplyr'\n",
      "\n",
      "\n",
      "The following objects are masked from 'package:stats':\n",
      "\n",
      "    filter, lag\n",
      "\n",
      "\n",
      "The following objects are masked from 'package:base':\n",
      "\n",
      "    intersect, setdiff, setequal, union\n",
      "\n",
      "\n"
     ]
    }
   ],
   "source": [
    "library(tidyr)\n",
    "library(dplyr)\n",
    "library(ggplot2)\n",
    "library(scico)\n",
    "\n",
    "theme_set(theme_bw(base_size = 11))"
   ]
  },
  {
   "cell_type": "markdown",
   "metadata": {},
   "source": [
    "## Data set\n",
    "\n",
    "In this tutorial, we will analyze the non-canonical genomic products identified in breast cancer by Johansson _et al._ [(2)](https://gtpb.github.io/IBIP19/pages/proteogenomics/references). Note that this tutorial does not cover the database generation, search, and validation of identification results. These bioinformatic procedures are very demanding and we strongly advise to make sure that they are in place at your lab or at the facility processing the data before conducting any proteogenomic experiment. The proteogenomic identification results by Johansson _et al._ [(2)](https://gtpb.github.io/IBIP19/pages/proteogenomics/references) are reported in Supplementary Data 6, available [here](../resources/Johansson_et_al_breast_cancer_quantitative_proteome_and_proteogenomic_landscape) in the course repository.\n",
    "\n",
    "##### [❔](https://github.com/GTPB/IBIP19/blob/master/pages/proteogenomics/answers.md#what-do-the-different-columns-in-the-table-represent) _What do the different columns in the table represent?_\n",
    "\n",
    "For this tutorial, the _Novel Peptides_ table was extracted to an R-friendly text format, and is available in [resources/data/novel_peptides.gz](resources/data/novel_peptides.gz).\n",
    "\n",
    "##### 👨‍💻 Load the data in R as in the code below."
   ]
  },
  {
   "cell_type": "code",
   "execution_count": 3,
   "metadata": {},
   "outputs": [],
   "source": [
    "novelPeptidesDF <- read.table(\n",
    "    file = \"resources/data/novel_peptides.gz\",\n",
    "    header = T,\n",
    "    sep = \"\\t\",\n",
    "    comment.char = \"\",\n",
    "    quote = \"\",\n",
    "    stringsAsFactors = F\n",
    ")"
   ]
  },
  {
   "cell_type": "markdown",
   "metadata": {},
   "source": [
    "## Genomic context and function\n",
    "\n",
    "##### 👨‍💻 Find the different classes of loci represented."
   ]
  },
  {
   "cell_type": "code",
   "execution_count": 5,
   "metadata": {},
   "outputs": [
    {
     "name": "stdout",
     "output_type": "stream",
     "text": [
      "                     class n_peptides\n",
      "1               intergenic        172\n",
      "2                 intronic         91\n",
      "3           ncRNA_intronic         22\n",
      "4             ncRNA_exonic         18\n",
      "5                   exonic         17\n",
      "6                     UTR5         16\n",
      "7              UTR5-exonic         14\n",
      "8              exonic-UTR5         12\n",
      "9          intronic-exonic         10\n",
      "10         exonic-intronic          4\n",
      "11                upstream          3\n",
      "12     exonic-ncRNA_exonic          2\n",
      "13         exonic-splicing          1\n",
      "14         exonic-upstream          1\n",
      "15 intergenic-ncRNA_exonic          1\n",
      "16     ncRNA_exonic-exonic          1\n",
      "17       splicing-intronic          1\n",
      "18                    UTR3          1\n",
      "19           UTR5-upstream          1\n"
     ]
    }
   ],
   "source": [
    "classesDF <- as.data.frame(\n",
    "    table(\n",
    "        novelPeptidesDF$class\n",
    "    )\n",
    ") %>%\n",
    "    rename(\n",
    "        class = Var1,\n",
    "        n_peptides = Freq\n",
    "    ) %>%\n",
    "    arrange(\n",
    "        desc(n_peptides)\n",
    "    )\n",
    "\n",
    "print(classesDF)"
   ]
  },
  {
   "cell_type": "markdown",
   "metadata": {},
   "source": [
    "##### [❔](https://github.com/GTPB/IBIP19/blob/master/pages/proteogenomics/answers.md#can-you-speculate-on-how-these-different-classes-of-loci-can-yield-novel-peptides) _Can you speculate on how these different classes of loci can yield novel peptides?_\n",
    "\n",
    "##### 👨‍💻  For the non-intergenic peptides, find the different categories of associated genes."
   ]
  },
  {
   "cell_type": "code",
   "execution_count": 9,
   "metadata": {},
   "outputs": [
    {
     "name": "stdout",
     "output_type": "stream",
     "text": [
      "        category n_peptides\n",
      "1     pseudogene         93\n",
      "2           5UTR         43\n",
      "3       intronic         33\n",
      "4 exonic.Alt.ORF         18\n",
      "5 exon_extension         14\n",
      "6          ncRNA         12\n",
      "7     intergenic          2\n",
      "8           3UTR          1\n"
     ]
    }
   ],
   "source": [
    "novelPeptidesDF %>% \n",
    "    filter(\n",
    "        class != \"intergenic\"\n",
    "    ) %>%\n",
    "    select(\n",
    "        nearest_gene, category\n",
    "    ) -> geneDF\n",
    "\n",
    "categoriesDF <- as.data.frame(\n",
    "    table(\n",
    "        geneDF$category\n",
    "    )\n",
    ") %>%\n",
    "    rename(\n",
    "        category = Var1,\n",
    "        n_peptides = Freq\n",
    "    ) %>%\n",
    "    arrange(\n",
    "        desc(n_peptides)\n",
    "    )\n",
    "\n",
    "print(categoriesDF)"
   ]
  },
  {
   "cell_type": "markdown",
   "metadata": {},
   "source": [
    "##### [❔](https://github.com/GTPB/IBIP19/blob/master/pages/proteogenomics/answers.md#what-do-these-categories-represent) _What do these categories represent?_\n",
    "\n",
    "##### 👨‍💻  Select peptides from the different classes and categories, and inspect the genetic landscape at these positions using the Ensembl or UCSC genome browsers. [Example for locus #9 (Intronic)](https://grch37.ensembl.org/Homo_sapiens/Location/View?r=1:51913622-51913666)\n",
    "\n",
    "##### 👨‍💻  Select genes possibly influenced by the transcription/translation change and inspect the function of the associated proteins.\n",
    "\n",
    "## Abundance in tumors and normal tissue\n",
    "\n",
    "In [Supplementary Table 8](../resources/Johansson_et_al_breast_cancer_quantitative_proteome_and_proteogenomic_landscape), the authors provide the abundance for novel peptides monitored in normal tissue and tumors for five patients. The table was extracted to an R-friendly text format for this tutorial, and is available in [resources/data/novel_peptides_paired.gz](resources/data/novel_peptides_paired.gz).\n",
    "\n",
    "##### 👨‍💻  Load the data in R as done for the previous table. In addition, transform the data from wide to long format and create columns indicating the patient number, whether the sample is _Control_ or _Tumor_, and what kind of tumor, as done in the code below."
   ]
  },
  {
   "cell_type": "code",
   "execution_count": 10,
   "metadata": {},
   "outputs": [],
   "source": [
    "novelPeptidesDF <- read.table(\n",
    "    file = \"resources/data/novel_peptides_paired.gz\",\n",
    "    header = T,\n",
    "    sep = \"\\t\",\n",
    "    comment.char = \"\",\n",
    "    quote = \"\",\n",
    "    stringsAsFactors = F\n",
    ") %>% \n",
    "    gather(\n",
    "        \"Control_1\", \"Control_2\", \"Control_3\", \"Control_4\", \"Control_5\",\n",
    "        key = \"control_id\",\n",
    "        value = \"control\"\n",
    "    ) %>% \n",
    "    select(\n",
    "        -control_id\n",
    "    ) %>%\n",
    "    gather(\n",
    "        \"LumA_1\", \"Her2_2\", \"LumB_3\", \"Basal_4\", \"Her2_5\",\n",
    "        key = \"tumor_id\",\n",
    "        value = \"tumor\"\n",
    "    ) %>%\n",
    "    separate(\n",
    "        col = \"tumor_id\",\n",
    "        into = c(\"tumorType\", \"patientNumber\"),\n",
    "        sep = \"_\"\n",
    "    ) %>%\n",
    "    mutate(\n",
    "        patientId = paste(\"Patient\", patientNumber)\n",
    "    ) %>%\n",
    "    arrange(\n",
    "        abs(tumor - control)\n",
    "    )"
   ]
  },
  {
   "cell_type": "markdown",
   "metadata": {},
   "source": [
    "##### 👨‍💻 Plot the peptide abundance in the tumor _vs_ control tissue for all peptides and all patients."
   ]
  },
  {
   "cell_type": "code",
   "execution_count": 11,
   "metadata": {},
   "outputs": [
    {
     "name": "stderr",
     "output_type": "stream",
     "text": [
      "Warning message:\n",
      "\"Removed 116 rows containing missing values (geom_point).\"\n"
     ]
    },
    {
     "data": {
      "image/png": "[encoded data removed]",
      "text/plain": [
       "plot without title"
      ]
     },
     "metadata": {
      "image/png": {
       "height": 420,
       "width": 420
      },
      "text/plain": {
       "height": 420,
       "width": 420
      }
     },
     "output_type": "display_data"
    }
   ],
   "source": [
    "\n",
    "ggplot(\n",
    "    data = novelPeptidesDF\n",
    ") +\n",
    "    geom_hline(\n",
    "        yintercept = quantile(\n",
    "            x = novelPeptidesDF$tumor, \n",
    "            probs = c(0.2, 0.8),\n",
    "            na.rm = T\n",
    "        ),\n",
    "        col = \"black\",\n",
    "        linetype = \"dotted\"\n",
    "    ) +\n",
    "    geom_vline(\n",
    "        xintercept = quantile(\n",
    "            x = novelPeptidesDF$control, \n",
    "            probs = c(0.2, 0.8),\n",
    "            na.rm = T\n",
    "        ),\n",
    "        col = \"black\",\n",
    "        linetype = \"dotted\"\n",
    "    ) +\n",
    "    geom_point(\n",
    "        mapping = aes(\n",
    "            x = control,\n",
    "            y = tumor,\n",
    "            col = log10(ms1_area)\n",
    "        )\n",
    "    ) +\n",
    "    facet_grid(\n",
    "        tumorType ~ .\n",
    "    ) +\n",
    "    scale_x_log10(\n",
    "        name = \"Intensity in control tissue\"\n",
    "    ) +\n",
    "    scale_y_log10(\n",
    "        name = \"Intensity in tumor tissue\"\n",
    "    ) + \n",
    "    scale_color_scico(\n",
    "        name = \"MS1 Area [log10]\",\n",
    "        palette = \"batlow\"\n",
    "    ) +\n",
    "    theme(\n",
    "        legend.position = \"top\",\n",
    "        panel.grid = element_blank()\n",
    "    )"
   ]
  },
  {
   "cell_type": "markdown",
   "metadata": {},
   "source": [
    "##### 💬 How do you interpret this plot?\n",
    "\n",
    "\n",
    "## Conclusion\n",
    "\n",
    "##### 💬 Can you speculate on the function or effect of these novel peptides in cancer biology? How can these be used in a clinical setup?"
   ]
  },
  {
   "cell_type": "code",
   "execution_count": null,
   "metadata": {},
   "outputs": [],
   "source": []
  }
 ],
 "metadata": {
  "kernelspec": {
   "display_name": "R",
   "language": "R",
   "name": "ir"
  },
  "language_info": {
   "codemirror_mode": "r",
   "file_extension": ".r",
   "mimetype": "text/x-r-source",
   "name": "R",
   "pygments_lexer": "r",
   "version": "3.6.1"
  }
 },
 "nbformat": 4,
 "nbformat_minor": 2
}
