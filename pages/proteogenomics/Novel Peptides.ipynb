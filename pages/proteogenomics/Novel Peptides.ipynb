{
 "cells": [
  {
   "cell_type": "markdown",
   "metadata": {},
   "source": [
    "Mutations in the genome can alter the sequence so that non-coding sections become coding. _e.g._ through the introduction of a start codon or the alteration of a stop codon. In order to identify these non-canonical genomic products, protein databases that capture genetic variation and non-canonical genomic products are generated either by enriching canonical protein sequences or by running six reading frame translation of the entire genome [(1)](https://gtpb.github.io/IBIP19/pages/proteogenomics/references). \n",
    "\n",
    "##### [:thought_balloon:](https://github.com/GTPB/IBIP19/blob/master/pages/proteogenomics/answers.md#based-on-you-knowledge-of-peptide-and-protein-identification-can-you-anticipate-challenges-posed-by-these-proteogenomic-databases) _Based on you knowledge of peptide and protein identification, can you anticipate challenges posed by these proteogenomic databases?_"
   ]
  },
  {
   "cell_type": "code",
   "execution_count": null,
   "metadata": {},
   "outputs": [],
   "source": []
  }
 ],
 "metadata": {
  "kernelspec": {
   "display_name": "R",
   "language": "R",
   "name": "ir"
  },
  "language_info": {
   "codemirror_mode": "r",
   "file_extension": ".r",
   "mimetype": "text/x-r-source",
   "name": "R",
   "pygments_lexer": "r",
   "version": "3.6.1"
  }
 },
 "nbformat": 4,
 "nbformat_minor": 2
}
