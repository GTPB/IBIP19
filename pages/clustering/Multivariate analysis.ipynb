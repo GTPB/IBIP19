{
 "cells": [
  {
   "cell_type": "markdown",
   "metadata": {},
   "source": [
    "# Statistics, multi-variate pattern recognition and clustering\n",
    "\n",
    "In this chapter, we will load the data from the previous exercises and look for protein groups that show distinguished patterns.\n",
    "\n",
    "At first, we will load the data and visualize it carefully, also to find out how it should be processed"
   ]
  },
  {
   "cell_type": "markdown",
   "metadata": {},
   "source": [
    "### Reading the data\n",
    "\n",
    "The next code fragments helps you to upload the file _PMC6453966.csv_ into R and look at its content. \n",
    "\n",
    "Also take a look into the original file of the paper: Supplementary table 1 in https://www.nature.com/articles/s41467-019-09018-y\n",
    "\n",
    "Task: Find the experimental design in the paper and/or data that allows assigning channels to tumor types."
   ]
  },
  {
   "cell_type": "code",
   "execution_count": null,
   "metadata": {},
   "outputs": [],
   "source": [
    "rQuantTable <-read.csv(\"resources/data/PMC6453966.csv\",row.names=1)\n",
    "\n",
    "# Which columns are there?\n",
    "colnames(rQuantTable)\n",
    "\n",
    "options(repr.matrix.max.cols = 100)\n",
    "head(rQuantTable,n = )\n",
    "\n",
    "#Take only protein abundances\n",
    "QuantTable <- rQuantTable[, 34:78]\n",
    "\n",
    "\n",
    "# Assign tumor types\n",
    "TCateg <- read.csv(\"resources/data/PMC6453966TumorTypes.csv\")\n",
    "colnames(TCateg)\n",
    "colnames(QuantTable) <- paste(TCateg$PAM50.subtype, \"Sample\", 1:45)\n",
    "QuantTable <- QuantTable[,sort(colnames(QuantTable))]\n",
    "head(QuantTable)\n"
   ]
  },
  {
   "cell_type": "markdown",
   "metadata": {},
   "source": [
    "#### Add your answers here\n",
    "(double-click here to edit the cell)\n",
    "\n",
    "##### Question I:  <ins>What do the different columns contain?</ins>\n",
    "\n",
    "_Answer_\n",
    "\n",
    "##### Question II:  <ins>What is in channel 131?</ins>\n",
    "\n",
    "_Answer_\n",
    "\n",
    "##### Question II:  <ins>Is the data log-transformed? How would you check that?</ins>\n",
    "\n",
    "_Answer_\n",
    "\n"
   ]
  },
  {
   "cell_type": "markdown",
   "metadata": {},
   "source": [
    "### Visualization\n",
    "\n",
    "We want to understand the data better by visualization. This helps also to identify important properties that might not be clear from the data description.\n",
    "\n",
    "_Tasks:_\n",
    "Make a boxplot and discuss how and why it looks like that. \n",
    "\n",
    "Visualize the distribution of some of the channels and also compare them via a scatter plot.\n",
    "\n",
    "Repeat the same for the log-transformed data.\n",
    "\n",
    "Calculate the dynamics range of all values."
   ]
  },
  {
   "cell_type": "code",
   "execution_count": null,
   "metadata": {
    "scrolled": false
   },
   "outputs": [],
   "source": [
    "# some figures\n",
    "boxplot(QuantTable)\n",
    "hist(QuantTable[,1],100)\n",
    "\n",
    "# Why is the distribution so assymetric? Take log?\n",
    "hist(log(QuantTable[,1]),100)\n",
    "\n",
    "# log-trafo\n",
    "lQuantTable <- log2(QuantTable)\n",
    "boxplot(lQuantTable)\n",
    "\n",
    "# scatter plot\n",
    "plot(lQuantTable$Set.1.TMT10Tag_126, lQuantTable$Set.1.TMT10Tag_129C, pch=15, col=\"#33333366\")\n",
    "\n"
   ]
  },
  {
   "cell_type": "markdown",
   "metadata": {},
   "source": [
    "#### Add your answers here\n",
    "(double-click here to edit the cell)\n",
    "\n",
    "##### Question I:  <ins>The data seems to centered. Around which value?</ins>\n",
    "\n",
    "_Answer_\n",
    "\n",
    "##### Question II:  <ins>Which normalization was used by the authors of the paper? On which data level (PSMs, peptides, proteins)? How is that visible in the plots</ins>\n",
    "\n",
    "_Answer_\n",
    "\n",
    "##### Question III:  <ins>Any idea why the distribution is so sharp?</ins>\n",
    "\n",
    "_Answer_\n",
    "\n",
    "\n",
    "##### Question IV:  <ins>Why can't you see any linear relationship between the samples?</ins>\n",
    "\n",
    "_Answer_\n",
    "\n",
    "\n"
   ]
  },
  {
   "cell_type": "markdown",
   "metadata": {},
   "source": [
    "### Dynamic range, similarity and missing values\n",
    "\n",
    "In the following, we will calculate the dynamic range of the, get more impression about data similarity by calculating correlations, and assess the number of missing values"
   ]
  },
  {
   "cell_type": "code",
   "execution_count": null,
   "metadata": {},
   "outputs": [],
   "source": [
    "# What is the dynamics range of the data?\n",
    "2^(max(lQuantTable)-min(lQuantTable))\n",
    "\n",
    "\n",
    "# Correlations between samples, replicates should show higher correlations\n",
    "library(lattice)\n",
    "levelplot(cor(lQuantTable))\n",
    "\n",
    "# Number of missing values per column\n",
    "table(rowSums(is.nan(as.matrix(lQuantTable))))\n"
   ]
  },
  {
   "cell_type": "markdown",
   "metadata": {},
   "source": [
    "#### Add your answers here\n",
    "(double-click here to edit the cell)\n",
    "\n",
    "##### Question I:  <ins>What does the dynamics range mean? Is it larger or smaller than expected? Take a look at https://www.ncbi.nlm.nih.gov/pmc/articles/PMC2938101/ to find more explanations.</ins>\n",
    "\n",
    "_Answer_\n",
    "\n",
    "##### Question II:  <ins>Do you find similarity between replicates? Is there a sample that seems to be displaced? How are the types distributed over the TMT runs?</ins>\n",
    "\n",
    "_Answer_\n",
    "\n",
    "##### Question II:  <ins>How many missing values does the data have per column? Why so many/few? Would you analyze the data differently?</ins>\n",
    "\n",
    "_Answer_\n",
    "\n"
   ]
  },
  {
   "cell_type": "markdown",
   "metadata": {},
   "source": [
    "### Principal component analysis\n",
    "PCA analysis is a way to plot multi-dimensional data via projection to the so-called principal components. \n",
    "Simple explanation: # create Ensembl set\n",
    "eQuantTable <- QuantTable\n",
    "rownames(eQuantTable) <- rQuantTable[,1]\n",
    "\n"
   ]
  },
  {
   "cell_type": "code",
   "execution_count": null,
   "metadata": {},
   "outputs": [],
   "source": [
    "# write into file for usage in  VSClust later on\n",
    "write.csv(lQuantTable,\"FolderOfYourChoice/PMC6453966_VSClust_in.csv\")\n",
    "\n",
    "# PCA for some testing\n",
    "pca.out <- princomp((QuantTable), cor = T)\n",
    "\n",
    "#scoring plot\n",
    "plot(pca.out$loadings, pch=16, col=rep(1:5,each=9) )\n",
    "text(pca.out$loadings, pos=2, labels=colnames(lQuantTable),cex=0.5)\n",
    "\n"
   ]
  },
  {
   "cell_type": "markdown",
   "metadata": {},
   "source": [
    "#### Add your answers here\n",
    "(double-click here to edit the cell)\n",
    "\n",
    "##### Question I:  <ins>How would you interpret a PCA loading plot?</ins>\n",
    "\n",
    "_Answer_\n",
    "\n",
    "##### Question II:  <ins>Can the different cancer subtypes be distinguished? If yes/no, what could be the biological reason? </ins>\n",
    "\n",
    "_Answer_\n",
    "\n",
    "##### Question III:  <ins>Can you predict which subtype should show most of the differences?</ins>\n",
    "\n",
    "_Answer_\n",
    "\n"
   ]
  },
  {
   "cell_type": "markdown",
   "metadata": {},
   "source": [
    "### Hierarchical clustering\n",
    "\n",
    "This cluster analysis is super-easy in R and provides a nice view of common changes within the proteins.\n",
    "\n",
    "The disadvantage of this clustering is its limitation to smaller data sets as the plots get very messy for thousands of proteins. Therefore, we will target a subset and cluster it in some examples.\n",
    "\n",
    "More specifically, we will take the 100 proteins with the largest changes of their averaged abundance between the two cancer subtypes. \n",
    "\n",
    "The clustering will be carried out for the averaged and the full data. Basing the analysis on averaged values only would neglected biological variance, and thus most likely lead to erronenous interpretations."
   ]
  },
  {
   "cell_type": "code",
   "execution_count": null,
   "metadata": {},
   "outputs": [],
   "source": [
    "# heat map of the most changing proteins between  the  first 2 conditions\n",
    "\n",
    "# Calculate means of each cancer subtype\n",
    "AvQuant <- NULL\n",
    "for (i in 1:5)\n",
    "  AvQuant  <- cbind(AvQuant, rowMeans(lQuantTable[,(i-1)*9+(1:9)]))\n",
    "\n",
    "# histogram of changes between the averages abundances\n",
    "hist(AvQuant[,1] - AvQuant[,2], 100)  \n",
    "\n",
    "# What happens with the 100 most different proteins?\n",
    "mostDiffInd <- names(sort(abs(AvQuant[,1] - AvQuant[,2]), decreasing = T)[1:100])\n",
    "heatmap(AvQuant[mostDiffInd,], Colv=NA)\n",
    "\n",
    "# Now look on the replicate level (full data). Do you still have the same impression of significant changes?\n",
    "heatmap(as.matrix(lQuantTable[mostDiffInd,]), Colv = NA,cexRow = 0.3)\n"
   ]
  },
  {
   "cell_type": "markdown",
   "metadata": {},
   "source": [
    "#### Add your answers here\n",
    "(double-click here to edit the cell)\n",
    "\n",
    "##### Question I:  <ins>Which is the expected fold-change of the most changing proteins?</ins>\n",
    "\n",
    "_Answer_\n",
    "\n",
    "##### Question II:  <ins>Is there a difference in the number of proteins increasing/decreasing in the second conditions (within the 100 most changing ones)?</ins>\n",
    "\n",
    "_Answer_\n",
    "\n",
    "##### Question III:  <ins>What does the this command do? `names(sort(abs(AvQuant[,1] - AvQuant[,2]), decreasing = T)[1:100])`</ins>\n",
    "\n",
    "_Answer_\n",
    "\n",
    "##### Question IV:  <ins>Would you still consider the top 100 proteins to show significant changes between the first 2 conditions? Assume an FDR of 1% or 5%</ins>\n",
    "\n",
    "_Answer_\n",
    "\n"
   ]
  },
  {
   "cell_type": "markdown",
   "metadata": {},
   "source": [
    "### Digging deeper into the behavior of one protein\n",
    "\n",
    "Let's take one of the top 100 proteins and check it quantitative values, and also look it up.\n",
    "\n",
    "For that, plot its abundance over all replicates and conditions using colors for the different cancer subtypes.\n",
    "\n",
    "Do some search in the web about the function of CRABP1 and whether it is related to any cancer.\n",
    "Use uniprot.org as starting point. \n",
    "\n",
    "Now search Google for _breast cancer_ and _CRABP1_. \n",
    "\n",
    "Get a random human protein from UniProt: \n",
    "\n",
    "https://www.uniprot.org/uniprot/?query=reviewed:yes+AND+organism:9606&random=yes\n",
    "\n",
    "Look it up again and do also the cancer search on Google. \n"
   ]
  },
  {
   "cell_type": "code",
   "execution_count": null,
   "metadata": {},
   "outputs": [],
   "source": [
    "# Take e.g. MUC5B\n",
    "plot(t(lQuantTable[\"CRABP1\",]), pch=16, col=rep(1:5,each=9))\n",
    "\n"
   ]
  },
  {
   "cell_type": "markdown",
   "metadata": {},
   "source": [
    "#### Add your answers here\n",
    "(double-click here to edit the cell)\n",
    "\n",
    "##### Question I:  <ins>The comparison between which conditions is likely to be statistical significant (e.g. with FDR 1%)?</ins>\n",
    "\n",
    "_Answer_\n",
    "\n",
    "##### Question II:  <ins>If the difference between expression in subtypes 1 and 2 is not that evident and might not lead to a significant result from statistical testing? How could you create better evidence?</ins>\n",
    "\n",
    "_Answer_\n",
    "\n",
    "##### Question III:  <ins>Do you consider CRABP1 or the randomly chosen protein to have a stronger relation to breast cancer?</ins>\n",
    "\n",
    "_Answer_\n",
    "\n"
   ]
  },
  {
   "cell_type": "markdown",
   "metadata": {},
   "source": [
    "### Statistics and clustering using VSClust\n",
    "You will now analyze the quantitative data to VSClust. \n",
    "There are several possibilities to run the Shiny App:\n",
    "\n",
    "a) Download the docker image `docker pull veitveit/VSClust` and run  it using `docker run -p3838:3838 veitveit/VSClust`. You can access the app via localhost:3838/VSClust in your browser afterwards\n",
    "\n",
    "b) Run it on the IFB cloud: TODO\n",
    "\n",
    "c) Run it on the server (here we have a max. of 1 person a time): http://computproteomics.bmb.sdu.dk/Apps/VSClust\n",
    "\n",
    "First play with the example and become familiar with the app\n",
    "\n",
    "Then upload the csv-file you saved above and get the results from the statistical tests ( _Download q-values and mean log-values_ ).\n",
    "\n",
    "Run the estimation of the cluster number (this will take some time) and look at the plots of the validation indices and the number of proteins that still get assigned to clusters. The variance-sensitive version of the fuzzy c-means account for the uncertainty of a measurement and thus is more stringent in filtering out proteins with unclear cluster assignments. \n",
    "\n",
    "Run both clustering methods for the suggested number of clusters. \n",
    "\n",
    "Repeat this for a higher number of clusters.\n",
    "\n",
    "Now redo the analysis by wrongly stating that the replicates are _not_ grouped.\n",
    "\n",
    "<ins>Note</ins> Do not run the pathway enrichment when using the app in docker or on the cloud.\n"
   ]
  },
  {
   "cell_type": "code",
   "execution_count": null,
   "metadata": {},
   "outputs": [],
   "source": []
  },
  {
   "cell_type": "markdown",
   "metadata": {},
   "source": [
    "#### Add your answers here\n",
    "(double-click here to edit the cell)\n",
    "\n",
    "##### Question I:  <ins>How many proteins are changing significantly between subtypes 1 and 2 (in the app A and B) having a q-value below 0.01? Is CRABP1 one of them? Would you have expected this FDR (q-value) for CRABP1?</ins>\n",
    "\n",
    "_Answer_\n",
    "\n",
    "##### Question II:  <ins>Which cancer subtype is most different from the first one? Does this observation conincide with what you see in the PCA plot?</ins>\n",
    "\n",
    "_Answer_\n",
    "\n",
    "##### Question III:  <ins>How many clusters suggested by the indices? How many proteins (approximately) would you then get in the clusters? How noisy do you consider the dataset? Does the variance-sensitive method filter out many proteins</ins>\n",
    "\n",
    "_Answer_\n",
    "\n",
    "##### Question IV:  <ins>When running the \"wrong\" experimental design, what is different when looking on statistical results, estimation of cluster number and clustering results?</ins>\n",
    "\n",
    "_Answer_\n",
    "\n"
   ]
  },
  {
   "cell_type": "markdown",
   "metadata": {},
   "source": [
    "### Having a look into GO terms and pathways\n",
    "\n",
    "Download the clustering results and upload the proteins of each of the clusters (separately) to GOrilla. \n",
    "Do the same uploading them to enrichnet.org\n",
    "\n",
    "Take a deeper look into how enrichnet works (e.g. by looking into the tutorial)."
   ]
  },
  {
   "cell_type": "markdown",
   "metadata": {},
   "source": [
    "#### Add your answers here\n",
    "(double-click here to edit the cell)\n",
    "\n",
    "##### Question I:  <ins>How many cluster members do you get? What are the main trends when comparing all cancer subtypes?</ins>\n",
    "\n",
    "_Answer_\n",
    "\n",
    "##### Question II:  <ins>Do you get the same result for the GO term enrichment? If not, what could be the reason?</ins>\n",
    "\n",
    "_Answer_\n",
    "\n",
    "##### Question III:  <ins>Any useful biology coming out? Check the original papers for the specific cancer subtypes.</ins>\n",
    "\n",
    "_Answer_\n",
    "\n"
   ]
  },
  {
   "cell_type": "markdown",
   "metadata": {},
   "source": [
    "#### Add your answers here\n",
    "(double-click here to edit the cell)\n",
    "\n",
    "##### Question I:  <ins></ins>\n",
    "\n",
    "_Answer_\n",
    "\n",
    "##### Question II:  <ins>?</ins>\n",
    "\n",
    "_Answer_\n",
    "\n",
    "##### Question II:  <ins>?</ins>\n",
    "\n",
    "_Answer_\n",
    "\n"
   ]
  },
  {
   "cell_type": "markdown",
   "metadata": {},
   "source": [
    "#### Add your answers here\n",
    "(double-click here to edit the cell)\n",
    "\n",
    "##### Question I:  <ins></ins>\n",
    "\n",
    "_Answer_\n",
    "\n",
    "##### Question II:  <ins>?</ins>\n",
    "\n",
    "_Answer_\n",
    "\n",
    "##### Question II:  <ins>?</ins>\n",
    "\n",
    "_Answer_\n",
    "\n"
   ]
  },
  {
   "cell_type": "markdown",
   "metadata": {},
   "source": []
  },
  {
   "cell_type": "code",
   "execution_count": null,
   "metadata": {},
   "outputs": [],
   "source": []
  },
  {
   "cell_type": "code",
   "execution_count": null,
   "metadata": {},
   "outputs": [],
   "source": []
  }
 ],
 "metadata": {
  "kernelspec": {
   "display_name": "R",
   "language": "R",
   "name": "ir"
  },
  "language_info": {
   "codemirror_mode": "r",
   "file_extension": ".r",
   "mimetype": "text/x-r-source",
   "name": "R",
   "pygments_lexer": "r",
   "version": "3.6.1"
  }
 },
 "nbformat": 4,
 "nbformat_minor": 2
}
