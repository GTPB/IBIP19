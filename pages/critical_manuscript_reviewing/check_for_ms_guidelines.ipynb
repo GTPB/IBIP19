{
 "cells": [
  {
   "cell_type": "markdown",
   "metadata": {},
   "source": [
    "# Critical manuscript reading\n",
    "\n",
    "\n",
    "You want to work with a proteomics data set. \n",
    "\n",
    "_But which information and which files do you need so you can actually do some analysis?_\n",
    "\n",
    "Independently whether you <ins>want to re-analyze public data</ins> or <ins>get data from a core facility</ins>, you need a minimum of information do further process them, and _much more information_ to fully understand the data.\n",
    "\n",
    "So what do we need?\n",
    "\n",
    "- files at different stages (raw spectra, identifications, quantified peptides and proteins)\n",
    "- detailed anotation of the files to relate them with the experimental design\n",
    "- detailed description of the data analysis to reproduce the results and check whether they were processed correctly\n",
    "\n",
    "In order to give a feeling of MS data _and_ how it usually is described, you will work in groups to assess data availability, annotation and description in 3 publications. One of them will also be used during the next days.\n",
    "\n",
    "Our initiative recently devised a set of guideline of how to assess proteomics data in publications: https://eubic.github.io/ReproducibleMSGuidelines/\n",
    "\n",
    "We want you now to look into the following papers and take notes which of the guidelines were fulfilled and which not. \n",
    "\n",
    "_Paper 1_: \n",
    "\n",
    "_Paper 2_: https://www.ncbi.nlm.nih.gov/pubmed/30962452\n",
    "\n",
    "_Paper 3_: \n",
    "\n",
    "TODO: template for the notes for the guidelines? Take the original md?"
   ]
  },
  {
   "cell_type": "code",
   "execution_count": null,
   "metadata": {},
   "outputs": [],
   "source": []
  }
 ],
 "metadata": {
  "kernelspec": {
   "display_name": "R",
   "language": "R",
   "name": "ir"
  },
  "language_info": {
   "codemirror_mode": "r",
   "file_extension": ".r",
   "mimetype": "text/x-r-source",
   "name": "R",
   "pygments_lexer": "r",
   "version": "3.6.1"
  }
 },
 "nbformat": 4,
 "nbformat_minor": 2
}
